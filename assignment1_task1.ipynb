{
  "nbformat": 4,
  "nbformat_minor": 0,
  "metadata": {
    "colab": {
      "provenance": []
    },
    "kernelspec": {
      "name": "python3",
      "display_name": "Python 3"
    },
    "language_info": {
      "name": "python"
    }
  },
  "cells": [
    {
      "cell_type": "code",
      "execution_count": 1,
      "metadata": {
        "colab": {
          "base_uri": "https://localhost:8080/"
        },
        "id": "p-PU908UOjxF",
        "outputId": "ef20f264-461f-4eef-9c5d-e7f780e97cdb"
      },
      "outputs": [
        {
          "output_type": "stream",
          "name": "stdout",
          "text": [
            "Type of NumPy Array: <class 'numpy.ndarray'>\n",
            "Original NumPy Array: [1 2 3 4 5]\n",
            "Result of Multiplication: [ 2  4  6  8 10]\n",
            "Result of Division: [0.5 1.  1.5 2.  2.5]\n",
            "Result of Power Operation: [ 1  4  9 16 25]\n",
            "Textual Output: Addition of Two: [1 2 3 4 5] + [ 2  4  6  8 10]\n",
            "Result of np.sin(): [ 0.84147098  0.90929743  0.14112001 -0.7568025  -0.95892427]\n",
            "Result of np.log(): [0.         0.69314718 1.09861229 1.38629436 1.60943791]\n",
            "Result of np.log2(): [0.         1.         1.5849625  2.         2.32192809]\n",
            "Result of np.exp(): [  2.71828183   7.3890561   20.08553692  54.59815003 148.4131591 ]\n"
          ]
        }
      ],
      "source": [
        "import numpy as np\n",
        "\n",
        "\n",
        "list_data = [1, 2, 3, 4, 5]\n",
        "numpy_array = np.array(list_data)\n",
        "\n",
        "\n",
        "print(\"Type of NumPy Array:\", type(numpy_array))\n",
        "\n",
        "\n",
        "result_multiply = numpy_array * 2\n",
        "result_divide = numpy_array / 2\n",
        "result_power = np.power(numpy_array, 2)\n",
        "\n",
        "\n",
        "text_output = \"Addition of Two: \" + str(numpy_array) + \" + \" + str(result_multiply)\n",
        "\n",
        "\n",
        "result_sin = np.sin(numpy_array)\n",
        "result_log = np.log(numpy_array)\n",
        "result_log2 = np.log2(numpy_array)\n",
        "result_exp = np.exp(numpy_array)\n",
        "\n",
        "\n",
        "print(\"Original NumPy Array:\", numpy_array)\n",
        "print(\"Result of Multiplication:\", result_multiply)\n",
        "print(\"Result of Division:\", result_divide)\n",
        "print(\"Result of Power Operation:\", result_power)\n",
        "print(\"Textual Output:\", text_output)\n",
        "print(\"Result of np.sin():\", result_sin)\n",
        "print(\"Result of np.log():\", result_log)\n",
        "print(\"Result of np.log2():\", result_log2)\n",
        "print(\"Result of np.exp():\", result_exp)\n"
      ]
    },
    {
      "cell_type": "code",
      "source": [
        "import pandas as pd\n",
        "\n",
        "\n",
        "data = {'Column1': [1, 2, 3, 4, 5], 'Column2': [6, 7, 8, 9, 10]}\n",
        "df = pd.DataFrame(data)\n",
        "\n",
        "\n",
        "print(\"Type of Pandas DataFrame:\", type(df))\n",
        "\n",
        "\n",
        "\n",
        "result_multiply_df = df * 2\n",
        "result_divide_df = df / 2\n",
        "result_power_df = np.power(df, 2)\n",
        "\n",
        "\n",
        "print(\"Original Pandas DataFrame:\")\n",
        "print(df)\n",
        "print(\"\\nResult of Multiplication (DataFrame):\")\n",
        "print(result_multiply_df)\n",
        "print(\"\\nResult of Division (DataFrame):\")\n",
        "print(result_divide_df)\n",
        "print(\"\\nResult of Power Operation (DataFrame):\")\n",
        "print(result_power_df)\n"
      ],
      "metadata": {
        "colab": {
          "base_uri": "https://localhost:8080/"
        },
        "id": "gx6VS0CVO6QI",
        "outputId": "2d3a99de-03b7-4d32-dbc9-c82eb81e6bd6"
      },
      "execution_count": 5,
      "outputs": [
        {
          "output_type": "stream",
          "name": "stdout",
          "text": [
            "Type of Pandas DataFrame: <class 'pandas.core.frame.DataFrame'>\n",
            "Original Pandas DataFrame:\n",
            "   Column1  Column2\n",
            "0        1        6\n",
            "1        2        7\n",
            "2        3        8\n",
            "3        4        9\n",
            "4        5       10\n",
            "\n",
            "Result of Multiplication (DataFrame):\n",
            "   Column1  Column2\n",
            "0        2       12\n",
            "1        4       14\n",
            "2        6       16\n",
            "3        8       18\n",
            "4       10       20\n",
            "\n",
            "Result of Division (DataFrame):\n",
            "   Column1  Column2\n",
            "0      0.5      3.0\n",
            "1      1.0      3.5\n",
            "2      1.5      4.0\n",
            "3      2.0      4.5\n",
            "4      2.5      5.0\n",
            "\n",
            "Result of Power Operation (DataFrame):\n",
            "   Column1  Column2\n",
            "0        1       36\n",
            "1        4       49\n",
            "2        9       64\n",
            "3       16       81\n",
            "4       25      100\n"
          ]
        }
      ]
    }
  ]
}